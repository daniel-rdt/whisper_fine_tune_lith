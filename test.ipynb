{
 "cells": [
  {
   "cell_type": "code",
   "execution_count": 15,
   "metadata": {},
   "outputs": [
    {
     "ename": "ImportError",
     "evalue": "cannot import name 'DEFAULT_CLIENT_SERVICE_URLS' from 'googletrans.constants' (/Users/daniel/.local/share/virtualenvs/2_ML_and_DL-6-UVFK0f/lib/python3.9/site-packages/googletrans/constants.py)",
     "output_type": "error",
     "traceback": [
      "\u001b[0;31m---------------------------------------------------------------------------\u001b[0m",
      "\u001b[0;31mImportError\u001b[0m                               Traceback (most recent call last)",
      "Cell \u001b[0;32mIn[15], line 5\u001b[0m\n\u001b[1;32m      3\u001b[0m \u001b[38;5;28;01mimport\u001b[39;00m \u001b[38;5;21;01mgradio\u001b[39;00m \u001b[38;5;28;01mas\u001b[39;00m \u001b[38;5;21;01mgr\u001b[39;00m\n\u001b[1;32m      4\u001b[0m \u001b[38;5;28;01mfrom\u001b[39;00m \u001b[38;5;21;01mpytube\u001b[39;00m \u001b[38;5;28;01mimport\u001b[39;00m YouTube\n\u001b[0;32m----> 5\u001b[0m \u001b[38;5;28;01mfrom\u001b[39;00m \u001b[38;5;21;01mgoogletrans\u001b[39;00m \u001b[38;5;28;01mimport\u001b[39;00m Translator\n\u001b[1;32m      6\u001b[0m \u001b[38;5;28;01mimport\u001b[39;00m \u001b[38;5;21;01mos\u001b[39;00m\n",
      "File \u001b[0;32m~/.local/share/virtualenvs/2_ML_and_DL-6-UVFK0f/lib/python3.9/site-packages/googletrans/__init__.py:6\u001b[0m\n\u001b[1;32m      <a href='file:///Users/daniel/.local/share/virtualenvs/2_ML_and_DL-6-UVFK0f/lib/python3.9/site-packages/googletrans/__init__.py?line=1'>2</a>\u001b[0m __all__ \u001b[39m=\u001b[39m \u001b[39m'\u001b[39m\u001b[39mTranslator\u001b[39m\u001b[39m'\u001b[39m,\n\u001b[1;32m      <a href='file:///Users/daniel/.local/share/virtualenvs/2_ML_and_DL-6-UVFK0f/lib/python3.9/site-packages/googletrans/__init__.py?line=2'>3</a>\u001b[0m __version__ \u001b[39m=\u001b[39m \u001b[39m'\u001b[39m\u001b[39m3.1.0-alpha\u001b[39m\u001b[39m'\u001b[39m\n\u001b[0;32m----> <a href='file:///Users/daniel/.local/share/virtualenvs/2_ML_and_DL-6-UVFK0f/lib/python3.9/site-packages/googletrans/__init__.py?line=5'>6</a>\u001b[0m \u001b[39mfrom\u001b[39;00m \u001b[39mgoogletrans\u001b[39;00m\u001b[39m.\u001b[39;00m\u001b[39mclient\u001b[39;00m \u001b[39mimport\u001b[39;00m Translator\n\u001b[1;32m      <a href='file:///Users/daniel/.local/share/virtualenvs/2_ML_and_DL-6-UVFK0f/lib/python3.9/site-packages/googletrans/__init__.py?line=6'>7</a>\u001b[0m \u001b[39mfrom\u001b[39;00m \u001b[39mgoogletrans\u001b[39;00m\u001b[39m.\u001b[39;00m\u001b[39mconstants\u001b[39;00m \u001b[39mimport\u001b[39;00m LANGCODES, LANGUAGES  \u001b[39m# noqa\u001b[39;00m\n",
      "File \u001b[0;32m~/.local/share/virtualenvs/2_ML_and_DL-6-UVFK0f/lib/python3.9/site-packages/googletrans/client.py:17\u001b[0m\n\u001b[1;32m     <a href='file:///Users/daniel/.local/share/virtualenvs/2_ML_and_DL-6-UVFK0f/lib/python3.9/site-packages/googletrans/client.py?line=14'>15</a>\u001b[0m \u001b[39mfrom\u001b[39;00m \u001b[39mgoogletrans\u001b[39;00m \u001b[39mimport\u001b[39;00m urls, utils\n\u001b[1;32m     <a href='file:///Users/daniel/.local/share/virtualenvs/2_ML_and_DL-6-UVFK0f/lib/python3.9/site-packages/googletrans/client.py?line=15'>16</a>\u001b[0m \u001b[39mfrom\u001b[39;00m \u001b[39mgoogletrans\u001b[39;00m\u001b[39m.\u001b[39;00m\u001b[39mgtoken\u001b[39;00m \u001b[39mimport\u001b[39;00m TokenAcquirer\n\u001b[0;32m---> <a href='file:///Users/daniel/.local/share/virtualenvs/2_ML_and_DL-6-UVFK0f/lib/python3.9/site-packages/googletrans/client.py?line=16'>17</a>\u001b[0m \u001b[39mfrom\u001b[39;00m \u001b[39mgoogletrans\u001b[39;00m\u001b[39m.\u001b[39;00m\u001b[39mconstants\u001b[39;00m \u001b[39mimport\u001b[39;00m (\n\u001b[1;32m     <a href='file:///Users/daniel/.local/share/virtualenvs/2_ML_and_DL-6-UVFK0f/lib/python3.9/site-packages/googletrans/client.py?line=17'>18</a>\u001b[0m     DEFAULT_CLIENT_SERVICE_URLS,\n\u001b[1;32m     <a href='file:///Users/daniel/.local/share/virtualenvs/2_ML_and_DL-6-UVFK0f/lib/python3.9/site-packages/googletrans/client.py?line=18'>19</a>\u001b[0m     DEFAULT_USER_AGENT, LANGCODES, LANGUAGES, SPECIAL_CASES,\n\u001b[1;32m     <a href='file:///Users/daniel/.local/share/virtualenvs/2_ML_and_DL-6-UVFK0f/lib/python3.9/site-packages/googletrans/client.py?line=19'>20</a>\u001b[0m     DEFAULT_RAISE_EXCEPTION, DUMMY_DATA\n\u001b[1;32m     <a href='file:///Users/daniel/.local/share/virtualenvs/2_ML_and_DL-6-UVFK0f/lib/python3.9/site-packages/googletrans/client.py?line=20'>21</a>\u001b[0m )\n\u001b[1;32m     <a href='file:///Users/daniel/.local/share/virtualenvs/2_ML_and_DL-6-UVFK0f/lib/python3.9/site-packages/googletrans/client.py?line=21'>22</a>\u001b[0m \u001b[39mfrom\u001b[39;00m \u001b[39mgoogletrans\u001b[39;00m\u001b[39m.\u001b[39;00m\u001b[39mmodels\u001b[39;00m \u001b[39mimport\u001b[39;00m Translated, Detected\n\u001b[1;32m     <a href='file:///Users/daniel/.local/share/virtualenvs/2_ML_and_DL-6-UVFK0f/lib/python3.9/site-packages/googletrans/client.py?line=23'>24</a>\u001b[0m EXCLUDES \u001b[39m=\u001b[39m (\u001b[39m'\u001b[39m\u001b[39men\u001b[39m\u001b[39m'\u001b[39m, \u001b[39m'\u001b[39m\u001b[39mca\u001b[39m\u001b[39m'\u001b[39m, \u001b[39m'\u001b[39m\u001b[39mfr\u001b[39m\u001b[39m'\u001b[39m)\n",
      "\u001b[0;31mImportError\u001b[0m: cannot import name 'DEFAULT_CLIENT_SERVICE_URLS' from 'googletrans.constants' (/Users/daniel/.local/share/virtualenvs/2_ML_and_DL-6-UVFK0f/lib/python3.9/site-packages/googletrans/constants.py)"
     ]
    }
   ],
   "source": [
    "import torch\n",
    "from transformers import pipeline\n",
    "import gradio as gr\n",
    "from pytube import YouTube\n",
    "from googletrans import Translator\n",
    "import os"
   ]
  },
  {
   "cell_type": "code",
   "execution_count": 2,
   "metadata": {},
   "outputs": [
    {
     "name": "stderr",
     "output_type": "stream",
     "text": [
      "Special tokens have been added in the vocabulary, make sure the associated word embeddings are fine-tuned or trained.\n"
     ]
    }
   ],
   "source": [
    "# use model with improved learning rate which yielded better performance\n",
    "pipe = pipeline(model=\"daniel-rdt/whisper-lt-finetune\", max_length=5000)"
   ]
  },
  {
   "cell_type": "code",
   "execution_count": 4,
   "metadata": {},
   "outputs": [
    {
     "data": {
      "text/plain": [
       "'/Users/daniel/Desktop/Uni/Master/5_WS22_23_KTH/2_ML_and_DL/assignments/Lab2/whisper_fine_tune_lt/yt_audio/Žinios  2022-11-15.mp4'"
      ]
     },
     "execution_count": 4,
     "metadata": {},
     "output_type": "execute_result"
    }
   ],
   "source": [
    "audio"
   ]
  },
  {
   "cell_type": "code",
   "execution_count": null,
   "metadata": {},
   "outputs": [],
   "source": [
    "# load youtube video url\n",
    "video = YouTube(str(yt_url))\n",
    "# filter to include audio only\n",
    "audio = video.streams.filter(only_audio=True)[0].download(\"yt_audio\")\n",
    "# get corresponding thumbnail and title\n",
    "thumbnail = video.thumbnail_url\n",
    "title = video.title\n",
    "# make text transcription using transformer pipeline\n",
    "text = pipe(audio)[\"text\"]\n",
    "# remove stored audio file from disk\n",
    "os.remove(audio)\n",
    "# text translation\n",
    "translator = google_translator()\n",
    "translation = translator.translate(text, src='lt')"
   ]
  },
  {
   "cell_type": "code",
   "execution_count": 5,
   "metadata": {},
   "outputs": [
    {
     "name": "stderr",
     "output_type": "stream",
     "text": [
      "/Users/daniel/.local/share/virtualenvs/2_ML_and_DL-6-UVFK0f/lib/python3.9/site-packages/transformers/generation/utils.py:1387: UserWarning: Neither `max_length` nor `max_new_tokens` has been set, `max_length` will default to 448 (`self.config.max_length`). Controlling `max_length` via the config is deprecated and `max_length` will be removed from the config in v5 of Transformers -- we recommend using `max_new_tokens` to control the maximum length of the generation.\n",
      "  warnings.warn(\n"
     ]
    }
   ],
   "source": [
    "# load youtube video url\n",
    "video = YouTube(\"https://www.youtube.com/watch?v=9JsBg3pTp8I\")\n",
    "# filter to include audio only\n",
    "audio = video.streams.filter(only_audio=True)[0].download(\"yt_audio\")\n",
    "# get corresponding thumbnail and title\n",
    "thumbnail = video.thumbnail_url\n",
    "title = video.title\n",
    "# make text transcription using transformer pipeline\n",
    "text = pipe(audio)[\"text\"]\n",
    "# remove stored audio file from disk\n",
    "os.remove(audio)"
   ]
  },
  {
   "cell_type": "code",
   "execution_count": 6,
   "metadata": {},
   "outputs": [
    {
     "data": {
      "text/plain": [
       "'Valandų „Ožiniuose“ svarbiausi dienos įvykiai Jungtinį Tautiį riaisąko Katkankinimos patyrė ir Rusijos ir Ukrainos laikomi karo belaisvei pranešamą Katapklausą daugiau neišimtas belaisvių bet Ukrainiečių parodymai surengti tik juos išlaisvinus matrusijas stebėtojų neįsileidžia.Tuo metu į didžiojo dvidešimtų koliderius nuotolių kreipėsi su Ukrainos prezidentas sąko Katatėjo laikas užbaigti Rusijos pradėta karą bet ne bet kaip au pagal tarptautinę teisę.Vvalodimirias Alenskis taipatispėjo nepasitikėti Rusija.Kuri pasakyvo pasitraukdama iškerskiai.'"
      ]
     },
     "execution_count": 6,
     "metadata": {},
     "output_type": "execute_result"
    }
   ],
   "source": [
    "text"
   ]
  },
  {
   "cell_type": "code",
   "execution_count": 10,
   "metadata": {},
   "outputs": [
    {
     "ename": "ValueError",
     "evalue": "The task does not provide any default models for options ('lt', 'en')",
     "output_type": "error",
     "traceback": [
      "\u001b[0;31m---------------------------------------------------------------------------\u001b[0m",
      "\u001b[0;31mValueError\u001b[0m                                Traceback (most recent call last)",
      "Cell \u001b[0;32mIn[10], line 1\u001b[0m\n\u001b[0;32m----> 1\u001b[0m translator \u001b[38;5;241m=\u001b[39m \u001b[43mpipeline\u001b[49m\u001b[43m(\u001b[49m\u001b[38;5;124;43m\"\u001b[39;49m\u001b[38;5;124;43mtranslation_lt_to_en\u001b[39;49m\u001b[38;5;124;43m\"\u001b[39;49m\u001b[43m)\u001b[49m\n",
      "File \u001b[0;32m~/.local/share/virtualenvs/2_ML_and_DL-6-UVFK0f/lib/python3.9/site-packages/transformers/pipelines/__init__.py:692\u001b[0m, in \u001b[0;36mpipeline\u001b[0;34m(task, model, config, tokenizer, feature_extractor, framework, revision, use_fast, use_auth_token, device, device_map, torch_dtype, trust_remote_code, model_kwargs, pipeline_class, **kwargs)\u001b[0m\n\u001b[1;32m    <a href='file:///Users/daniel/.local/share/virtualenvs/2_ML_and_DL-6-UVFK0f/lib/python3.9/site-packages/transformers/pipelines/__init__.py?line=688'>689</a>\u001b[0m \u001b[39m# Use default model/config/tokenizer for the task if no model is provided\u001b[39;00m\n\u001b[1;32m    <a href='file:///Users/daniel/.local/share/virtualenvs/2_ML_and_DL-6-UVFK0f/lib/python3.9/site-packages/transformers/pipelines/__init__.py?line=689'>690</a>\u001b[0m \u001b[39mif\u001b[39;00m model \u001b[39mis\u001b[39;00m \u001b[39mNone\u001b[39;00m:\n\u001b[1;32m    <a href='file:///Users/daniel/.local/share/virtualenvs/2_ML_and_DL-6-UVFK0f/lib/python3.9/site-packages/transformers/pipelines/__init__.py?line=690'>691</a>\u001b[0m     \u001b[39m# At that point framework might still be undetermined\u001b[39;00m\n\u001b[0;32m--> <a href='file:///Users/daniel/.local/share/virtualenvs/2_ML_and_DL-6-UVFK0f/lib/python3.9/site-packages/transformers/pipelines/__init__.py?line=691'>692</a>\u001b[0m     model, default_revision \u001b[39m=\u001b[39m get_default_model_and_revision(targeted_task, framework, task_options)\n\u001b[1;32m    <a href='file:///Users/daniel/.local/share/virtualenvs/2_ML_and_DL-6-UVFK0f/lib/python3.9/site-packages/transformers/pipelines/__init__.py?line=692'>693</a>\u001b[0m     revision \u001b[39m=\u001b[39m revision \u001b[39mif\u001b[39;00m revision \u001b[39mis\u001b[39;00m \u001b[39mnot\u001b[39;00m \u001b[39mNone\u001b[39;00m \u001b[39melse\u001b[39;00m default_revision\n\u001b[1;32m    <a href='file:///Users/daniel/.local/share/virtualenvs/2_ML_and_DL-6-UVFK0f/lib/python3.9/site-packages/transformers/pipelines/__init__.py?line=693'>694</a>\u001b[0m     logger\u001b[39m.\u001b[39mwarning(\n\u001b[1;32m    <a href='file:///Users/daniel/.local/share/virtualenvs/2_ML_and_DL-6-UVFK0f/lib/python3.9/site-packages/transformers/pipelines/__init__.py?line=694'>695</a>\u001b[0m         \u001b[39mf\u001b[39m\u001b[39m\"\u001b[39m\u001b[39mNo model was supplied, defaulted to \u001b[39m\u001b[39m{\u001b[39;00mmodel\u001b[39m}\u001b[39;00m\u001b[39m and revision\u001b[39m\u001b[39m\"\u001b[39m\n\u001b[1;32m    <a href='file:///Users/daniel/.local/share/virtualenvs/2_ML_and_DL-6-UVFK0f/lib/python3.9/site-packages/transformers/pipelines/__init__.py?line=695'>696</a>\u001b[0m         \u001b[39mf\u001b[39m\u001b[39m\"\u001b[39m\u001b[39m \u001b[39m\u001b[39m{\u001b[39;00mrevision\u001b[39m}\u001b[39;00m\u001b[39m (\u001b[39m\u001b[39m{\u001b[39;00mHUGGINGFACE_CO_RESOLVE_ENDPOINT\u001b[39m}\u001b[39;00m\u001b[39m/\u001b[39m\u001b[39m{\u001b[39;00mmodel\u001b[39m}\u001b[39;00m\u001b[39m).\u001b[39m\u001b[39m\\n\u001b[39;00m\u001b[39m\"\u001b[39m\n\u001b[1;32m    <a href='file:///Users/daniel/.local/share/virtualenvs/2_ML_and_DL-6-UVFK0f/lib/python3.9/site-packages/transformers/pipelines/__init__.py?line=696'>697</a>\u001b[0m         \u001b[39m\"\u001b[39m\u001b[39mUsing a pipeline without specifying a model name and revision in production is not recommended.\u001b[39m\u001b[39m\"\u001b[39m\n\u001b[1;32m    <a href='file:///Users/daniel/.local/share/virtualenvs/2_ML_and_DL-6-UVFK0f/lib/python3.9/site-packages/transformers/pipelines/__init__.py?line=697'>698</a>\u001b[0m     )\n",
      "File \u001b[0;32m~/.local/share/virtualenvs/2_ML_and_DL-6-UVFK0f/lib/python3.9/site-packages/transformers/pipelines/base.py:374\u001b[0m, in \u001b[0;36mget_default_model_and_revision\u001b[0;34m(targeted_task, framework, task_options)\u001b[0m\n\u001b[1;32m    <a href='file:///Users/daniel/.local/share/virtualenvs/2_ML_and_DL-6-UVFK0f/lib/python3.9/site-packages/transformers/pipelines/base.py?line=371'>372</a>\u001b[0m \u001b[39mif\u001b[39;00m task_options:\n\u001b[1;32m    <a href='file:///Users/daniel/.local/share/virtualenvs/2_ML_and_DL-6-UVFK0f/lib/python3.9/site-packages/transformers/pipelines/base.py?line=372'>373</a>\u001b[0m     \u001b[39mif\u001b[39;00m task_options \u001b[39mnot\u001b[39;00m \u001b[39min\u001b[39;00m defaults:\n\u001b[0;32m--> <a href='file:///Users/daniel/.local/share/virtualenvs/2_ML_and_DL-6-UVFK0f/lib/python3.9/site-packages/transformers/pipelines/base.py?line=373'>374</a>\u001b[0m         \u001b[39mraise\u001b[39;00m \u001b[39mValueError\u001b[39;00m(\u001b[39mf\u001b[39m\u001b[39m\"\u001b[39m\u001b[39mThe task does not provide any default models for options \u001b[39m\u001b[39m{\u001b[39;00mtask_options\u001b[39m}\u001b[39;00m\u001b[39m\"\u001b[39m)\n\u001b[1;32m    <a href='file:///Users/daniel/.local/share/virtualenvs/2_ML_and_DL-6-UVFK0f/lib/python3.9/site-packages/transformers/pipelines/base.py?line=374'>375</a>\u001b[0m     default_models \u001b[39m=\u001b[39m defaults[task_options][\u001b[39m\"\u001b[39m\u001b[39mmodel\u001b[39m\u001b[39m\"\u001b[39m]\n\u001b[1;32m    <a href='file:///Users/daniel/.local/share/virtualenvs/2_ML_and_DL-6-UVFK0f/lib/python3.9/site-packages/transformers/pipelines/base.py?line=375'>376</a>\u001b[0m \u001b[39melif\u001b[39;00m \u001b[39m\"\u001b[39m\u001b[39mmodel\u001b[39m\u001b[39m\"\u001b[39m \u001b[39min\u001b[39;00m defaults:\n",
      "\u001b[0;31mValueError\u001b[0m: The task does not provide any default models for options ('lt', 'en')"
     ]
    }
   ],
   "source": [
    "translator = pipeline(\"translation_lt_to_en\")"
   ]
  },
  {
   "cell_type": "code",
   "execution_count": 8,
   "metadata": {},
   "outputs": [
    {
     "name": "stderr",
     "output_type": "stream",
     "text": [
      "/Users/daniel/.local/share/virtualenvs/2_ML_and_DL-6-UVFK0f/lib/python3.9/site-packages/urllib3/connectionpool.py:1045: InsecureRequestWarning: Unverified HTTPS request is being made to host 'translate.google.cn'. Adding certificate verification is strongly advised. See: https://urllib3.readthedocs.io/en/1.26.x/advanced-usage.html#ssl-warnings\n",
      "  warnings.warn(\n"
     ]
    },
    {
     "ename": "google_new_transError",
     "evalue": "404 (Not Found) from TTS API. Probable cause: Unknown",
     "output_type": "error",
     "traceback": [
      "\u001b[0;31m---------------------------------------------------------------------------\u001b[0m",
      "\u001b[0;31mHTTPError\u001b[0m                                 Traceback (most recent call last)",
      "File \u001b[0;32m~/.local/share/virtualenvs/2_ML_and_DL-6-UVFK0f/lib/python3.9/site-packages/google_trans_new/google_trans_new.py:189\u001b[0m, in \u001b[0;36mgoogle_translator.translate\u001b[0;34m(self, text, lang_tgt, lang_src, pronounce)\u001b[0m\n\u001b[1;32m    <a href='file:///Users/daniel/.local/share/virtualenvs/2_ML_and_DL-6-UVFK0f/lib/python3.9/site-packages/google_trans_new/google_trans_new.py?line=187'>188</a>\u001b[0m                 \u001b[39mraise\u001b[39;00m e\n\u001b[0;32m--> <a href='file:///Users/daniel/.local/share/virtualenvs/2_ML_and_DL-6-UVFK0f/lib/python3.9/site-packages/google_trans_new/google_trans_new.py?line=188'>189</a>\u001b[0m     r\u001b[39m.\u001b[39;49mraise_for_status()\n\u001b[1;32m    <a href='file:///Users/daniel/.local/share/virtualenvs/2_ML_and_DL-6-UVFK0f/lib/python3.9/site-packages/google_trans_new/google_trans_new.py?line=189'>190</a>\u001b[0m \u001b[39mexcept\u001b[39;00m requests\u001b[39m.\u001b[39mexceptions\u001b[39m.\u001b[39mConnectTimeout \u001b[39mas\u001b[39;00m e:\n",
      "File \u001b[0;32m~/.local/share/virtualenvs/2_ML_and_DL-6-UVFK0f/lib/python3.9/site-packages/requests/models.py:1021\u001b[0m, in \u001b[0;36mResponse.raise_for_status\u001b[0;34m(self)\u001b[0m\n\u001b[1;32m   <a href='file:///Users/daniel/.local/share/virtualenvs/2_ML_and_DL-6-UVFK0f/lib/python3.9/site-packages/requests/models.py?line=1019'>1020</a>\u001b[0m \u001b[39mif\u001b[39;00m http_error_msg:\n\u001b[0;32m-> <a href='file:///Users/daniel/.local/share/virtualenvs/2_ML_and_DL-6-UVFK0f/lib/python3.9/site-packages/requests/models.py?line=1020'>1021</a>\u001b[0m     \u001b[39mraise\u001b[39;00m HTTPError(http_error_msg, response\u001b[39m=\u001b[39m\u001b[39mself\u001b[39m)\n",
      "\u001b[0;31mHTTPError\u001b[0m: 404 Client Error: Not Found for url: https://translate.google.cn/_/TranslateWebserverUi/data/batchexecute",
      "\nDuring handling of the above exception, another exception occurred:\n",
      "\u001b[0;31mgoogle_new_transError\u001b[0m                     Traceback (most recent call last)",
      "Cell \u001b[0;32mIn[8], line 3\u001b[0m\n\u001b[1;32m      1\u001b[0m \u001b[38;5;66;03m# text translation\u001b[39;00m\n\u001b[1;32m      2\u001b[0m translator \u001b[38;5;241m=\u001b[39m google_translator()\n\u001b[0;32m----> 3\u001b[0m translation \u001b[38;5;241m=\u001b[39m \u001b[43mtranslator\u001b[49m\u001b[38;5;241;43m.\u001b[39;49m\u001b[43mtranslate\u001b[49m\u001b[43m(\u001b[49m\u001b[43mtext\u001b[49m\u001b[43m,\u001b[49m\u001b[43m \u001b[49m\u001b[43mlang_tgt\u001b[49m\u001b[38;5;241;43m=\u001b[39;49m\u001b[38;5;124;43m'\u001b[39;49m\u001b[38;5;124;43men\u001b[39;49m\u001b[38;5;124;43m'\u001b[39;49m\u001b[43m)\u001b[49m\n\u001b[1;32m      4\u001b[0m translation\n",
      "File \u001b[0;32m~/.local/share/virtualenvs/2_ML_and_DL-6-UVFK0f/lib/python3.9/site-packages/google_trans_new/google_trans_new.py:194\u001b[0m, in \u001b[0;36mgoogle_translator.translate\u001b[0;34m(self, text, lang_tgt, lang_src, pronounce)\u001b[0m\n\u001b[1;32m    <a href='file:///Users/daniel/.local/share/virtualenvs/2_ML_and_DL-6-UVFK0f/lib/python3.9/site-packages/google_trans_new/google_trans_new.py?line=190'>191</a>\u001b[0m     \u001b[39mraise\u001b[39;00m e\n\u001b[1;32m    <a href='file:///Users/daniel/.local/share/virtualenvs/2_ML_and_DL-6-UVFK0f/lib/python3.9/site-packages/google_trans_new/google_trans_new.py?line=191'>192</a>\u001b[0m \u001b[39mexcept\u001b[39;00m requests\u001b[39m.\u001b[39mexceptions\u001b[39m.\u001b[39mHTTPError \u001b[39mas\u001b[39;00m e:\n\u001b[1;32m    <a href='file:///Users/daniel/.local/share/virtualenvs/2_ML_and_DL-6-UVFK0f/lib/python3.9/site-packages/google_trans_new/google_trans_new.py?line=192'>193</a>\u001b[0m     \u001b[39m# Request successful, bad response\u001b[39;00m\n\u001b[0;32m--> <a href='file:///Users/daniel/.local/share/virtualenvs/2_ML_and_DL-6-UVFK0f/lib/python3.9/site-packages/google_trans_new/google_trans_new.py?line=193'>194</a>\u001b[0m     \u001b[39mraise\u001b[39;00m google_new_transError(tts\u001b[39m=\u001b[39m\u001b[39mself\u001b[39m, response\u001b[39m=\u001b[39mr)\n\u001b[1;32m    <a href='file:///Users/daniel/.local/share/virtualenvs/2_ML_and_DL-6-UVFK0f/lib/python3.9/site-packages/google_trans_new/google_trans_new.py?line=194'>195</a>\u001b[0m \u001b[39mexcept\u001b[39;00m requests\u001b[39m.\u001b[39mexceptions\u001b[39m.\u001b[39mRequestException \u001b[39mas\u001b[39;00m e:\n\u001b[1;32m    <a href='file:///Users/daniel/.local/share/virtualenvs/2_ML_and_DL-6-UVFK0f/lib/python3.9/site-packages/google_trans_new/google_trans_new.py?line=195'>196</a>\u001b[0m     \u001b[39m# Request failed\u001b[39;00m\n\u001b[1;32m    <a href='file:///Users/daniel/.local/share/virtualenvs/2_ML_and_DL-6-UVFK0f/lib/python3.9/site-packages/google_trans_new/google_trans_new.py?line=196'>197</a>\u001b[0m     \u001b[39mraise\u001b[39;00m google_new_transError(tts\u001b[39m=\u001b[39m\u001b[39mself\u001b[39m)\n",
      "\u001b[0;31mgoogle_new_transError\u001b[0m: 404 (Not Found) from TTS API. Probable cause: Unknown"
     ]
    }
   ],
   "source": [
    "# text translation\n",
    "translator = google_translator()\n",
    "translation = translator.translate(text, lang_tgt='en')\n",
    "translation\n"
   ]
  },
  {
   "cell_type": "code",
   "execution_count": null,
   "metadata": {},
   "outputs": [],
   "source": []
  }
 ],
 "metadata": {
  "interpreter": {
   "hash": "851c2cb4c9e12c04cc28c5979e85e7f4ba9f6399f09bb012d9a2efb204409f46"
  },
  "kernelspec": {
   "display_name": "Python 3.9.12 ('2_ML_and_DL-6-UVFK0f')",
   "language": "python",
   "name": "python3"
  },
  "language_info": {
   "codemirror_mode": {
    "name": "ipython",
    "version": 3
   },
   "file_extension": ".py",
   "mimetype": "text/x-python",
   "name": "python",
   "nbconvert_exporter": "python",
   "pygments_lexer": "ipython3",
   "version": "3.9.12"
  },
  "orig_nbformat": 4
 },
 "nbformat": 4,
 "nbformat_minor": 2
}
